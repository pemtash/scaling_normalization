{
 "cells": [
  {
   "cell_type": "markdown",
   "metadata": {},
   "source": [
    "# scaling and Normalization"
   ]
  },
  {
   "cell_type": "code",
   "execution_count": 1,
   "metadata": {
    "ExecuteTime": {
     "end_time": "2021-04-19T13:31:04.442458Z",
     "start_time": "2021-04-19T13:31:03.639027Z"
    }
   },
   "outputs": [],
   "source": [
    "# modules we will use\n",
    "import pandas as pd \n",
    "import numpy as np"
   ]
  },
  {
   "cell_type": "code",
   "execution_count": 2,
   "metadata": {
    "ExecuteTime": {
     "end_time": "2021-04-19T13:31:46.742758Z",
     "start_time": "2021-04-19T13:31:45.817866Z"
    }
   },
   "outputs": [],
   "source": [
    "# for box-cox transformation\n",
    "from scipy import stats"
   ]
  },
  {
   "cell_type": "code",
   "execution_count": 4,
   "metadata": {
    "ExecuteTime": {
     "end_time": "2021-04-19T13:32:43.868347Z",
     "start_time": "2021-04-19T13:32:43.618170Z"
    }
   },
   "outputs": [],
   "source": [
    "# for min max scaling\n",
    "from mlxtend.preprocessing import minmax_scaling"
   ]
  },
  {
   "cell_type": "code",
   "execution_count": 5,
   "metadata": {
    "ExecuteTime": {
     "end_time": "2021-04-19T13:33:24.573614Z",
     "start_time": "2021-04-19T13:33:23.897370Z"
    }
   },
   "outputs": [],
   "source": [
    "# plotting modules\n",
    "import seaborn as sns\n",
    "import matplotlib.pyplot as plt"
   ]
  },
  {
   "cell_type": "code",
   "execution_count": 6,
   "metadata": {
    "ExecuteTime": {
     "end_time": "2021-04-19T13:33:57.435743Z",
     "start_time": "2021-04-19T13:33:57.424752Z"
    }
   },
   "outputs": [],
   "source": [
    "# set seed for reproducibility\n",
    "np.random.seed(0)"
   ]
  },
  {
   "cell_type": "markdown",
   "metadata": {},
   "source": [
    "scaling: changing the range of your data\n",
    "\n",
    "normalization: changing the shape of the distributions of your data"
   ]
  },
  {
   "cell_type": "markdown",
   "metadata": {},
   "source": [
    "# scaling"
   ]
  },
  {
   "cell_type": "code",
   "execution_count": 10,
   "metadata": {
    "ExecuteTime": {
     "end_time": "2021-04-19T13:37:24.381148Z",
     "start_time": "2021-04-19T13:37:24.359165Z"
    }
   },
   "outputs": [
    {
     "data": {
      "text/plain": [
       "array([1.13263413, 0.31472167, 1.32875788, 3.27514318, 0.28602098,\n",
       "       0.85839296, 0.89659088, 0.84922082, 0.25242   , 3.0522817 ,\n",
       "       0.59262403, 1.87345992, 1.20223856, 0.35302013, 1.6809222 ,\n",
       "       0.50501875, 2.12949936, 0.87053582, 2.13483047, 1.17938293,\n",
       "       1.29190926, 0.69579946, 3.12546824, 1.03279702, 0.551396  ,\n",
       "       0.93240287, 0.01937978, 0.35892722, 1.0793202 , 0.34259962,\n",
       "       0.96237506, 0.55996107, 0.14557397, 0.35422413, 0.84388847,\n",
       "       0.89372907, 0.85407972, 1.0590094 , 1.0558496 , 0.5646105 ,\n",
       "       2.26863397, 0.45817288, 0.57246156, 2.22491463, 1.64089756,\n",
       "       1.21701949, 0.10561264, 2.51928214, 1.25260753, 6.76539373,\n",
       "       0.16187009, 2.02590879, 0.17732558, 0.95596642, 0.13218371,\n",
       "       1.8839289 , 1.64671909, 0.84188095, 0.52287003, 0.07167539,\n",
       "       1.19543857, 0.60429908, 1.28033418, 2.01277274, 3.7099603 ,\n",
       "       1.93657723, 0.01178323, 0.44625283, 1.30929837, 0.18829497,\n",
       "       0.73613111, 0.05587006, 0.22313921, 0.01869547, 1.57841273,\n",
       "       0.25350571, 0.4236571 , 2.63221887, 1.21879681, 0.03235681,\n",
       "       0.17995734, 0.97148214, 0.86092364, 0.27166808, 2.7213482 ,\n",
       "       0.95182972, 0.76707967, 0.89137857, 1.30978538, 0.3738865 ,\n",
       "       0.50786511, 0.23552457, 0.20603205, 2.88907562, 1.34534743,\n",
       "       0.67424458, 0.25801276, 0.29350765, 0.05978096, 0.56989756])"
      ]
     },
     "execution_count": 10,
     "metadata": {},
     "output_type": "execute_result"
    }
   ],
   "source": [
    "# generate 1000 data points randomly drawn from an exponential distribution\n",
    "original_data = np.random.exponential(size=100)\n",
    "original_data"
   ]
  },
  {
   "cell_type": "code",
   "execution_count": 8,
   "metadata": {
    "ExecuteTime": {
     "end_time": "2021-04-19T13:37:00.901255Z",
     "start_time": "2021-04-19T13:37:00.887262Z"
    }
   },
   "outputs": [],
   "source": [
    "# min-max scale the between 0 and 1\n",
    "scaled_data = minmax_scaling(original_data, columns=[0])"
   ]
  },
  {
   "cell_type": "code",
   "execution_count": 11,
   "metadata": {
    "ExecuteTime": {
     "end_time": "2021-04-19T13:40:41.655162Z",
     "start_time": "2021-04-19T13:40:41.215376Z"
    }
   },
   "outputs": [
    {
     "data": {
      "text/plain": [
       "Text(0.5, 1.0, 'scaled data')"
      ]
     },
     "execution_count": 11,
     "metadata": {},
     "output_type": "execute_result"
    },
    {
     "data": {
      "image/png": "[encoded data removed]",
      "text/plain": [
       "<Figure size 432x288 with 2 Axes>"
      ]
     },
     "metadata": {
      "needs_background": "light"
     },
     "output_type": "display_data"
    }
   ],
   "source": [
    "# plot both together to compare\n",
    "fig, ax = plt.subplots(1,2)\n",
    "sns.distplot(original_data, ax=ax[0])\n",
    "ax[0].set_title(\"original data\")\n",
    "sns.distplot(scaled_data, ax=ax[1])\n",
    "ax[1].set_title(\"scaled data\")"
   ]
  },
  {
   "cell_type": "code",
   "execution_count": 12,
   "metadata": {
    "ExecuteTime": {
     "end_time": "2021-04-19T13:42:57.624319Z",
     "start_time": "2021-04-19T13:42:57.614325Z"
    }
   },
   "outputs": [],
   "source": [
    "# notice that the shape of the data doesn't change , but that instead of \n",
    "# ranging from 0-8 now ranges from 0-1"
   ]
  },
  {
   "cell_type": "markdown",
   "metadata": {},
   "source": [
    "# Normalization"
   ]
  },
  {
   "cell_type": "code",
   "execution_count": 14,
   "metadata": {
    "ExecuteTime": {
     "end_time": "2021-04-19T13:45:42.976231Z",
     "start_time": "2021-04-19T13:45:42.963240Z"
    }
   },
   "outputs": [],
   "source": [
    "#The point of normalization is to change your observations so that they can be described as a normal distribution."
   ]
  },
  {
   "cell_type": "code",
   "execution_count": 15,
   "metadata": {
    "ExecuteTime": {
     "end_time": "2021-04-19T13:46:38.482478Z",
     "start_time": "2021-04-19T13:46:38.474482Z"
    }
   },
   "outputs": [],
   "source": [
    "# normalize the exponential data with boxcox\n",
    "normalized_data = stats.boxcox(original_data)"
   ]
  },
  {
   "cell_type": "code",
   "execution_count": 16,
   "metadata": {
    "ExecuteTime": {
     "end_time": "2021-04-19T13:46:44.529289Z",
     "start_time": "2021-04-19T13:46:44.515300Z"
    },
    "scrolled": true
   },
   "outputs": [
    {
     "data": {
      "text/plain": [
       "(array([ 0.12685705, -0.97990788,  0.29647397,  1.41987011, -1.04700213,\n",
       "        -0.14931278, -0.10742071, -0.15956717, -1.13188889,  1.32097481,\n",
       "        -0.48490014,  0.68953367,  0.18926942, -0.89679689,  0.56113955,\n",
       "        -0.61885515,  0.84657477, -0.13585542,  0.84969928,  0.16906333,\n",
       "         0.26602258, -0.34400479,  1.3539975 ,  0.03242442, -0.5460641 ,\n",
       "        -0.06927428, -2.33315725, -0.88455287,  0.07719535, -0.91875343,\n",
       "        -0.03813538, -0.53309818, -1.47073349, -0.89428962, -0.16556467,\n",
       "        -0.11051515, -0.15412528,  0.05782045,  0.05478274, -0.52611834,\n",
       "         0.92637781, -0.69734161, -0.51442364,  0.90168324,  0.53315932,\n",
       "         0.20219295, -1.64438885,  1.06182729,  0.23286077,  2.56659778,\n",
       "        -1.40960912,  0.7847348 , -1.3555301 , -0.04473536, -1.52468413,\n",
       "         0.69624265,  0.53725872, -0.16782954, -0.59029966, -1.83341224,\n",
       "         0.18328626, -0.46812744,  0.25633066,  0.77673475,  1.59991143,\n",
       "         0.72958893, -2.47814074, -0.71821067,  0.28046812, -1.31913562,\n",
       "        -0.29294117, -1.94398992, -1.21263476, -2.34435893,  0.48849867,\n",
       "        -1.12902502, -0.75887554,  1.11975948,  0.20373945, -2.15984008,\n",
       "        -1.34665659, -0.02880954, -0.14649711, -1.08235148,  1.16425298,\n",
       "        -0.04901216, -0.2550807 , -0.11306195,  0.28087075, -0.85416928,\n",
       "        -0.61425479, -1.17761889, -1.26333115,  1.24526917,  0.3099891 ,\n",
       "        -0.3721564 , -1.11722814, -1.0290583 , -1.9147554 , -0.51823038]),\n",
       " 0.2943430266232531)"
      ]
     },
     "execution_count": 16,
     "metadata": {},
     "output_type": "execute_result"
    }
   ],
   "source": [
    "normalized_data"
   ]
  },
  {
   "cell_type": "code",
   "execution_count": 20,
   "metadata": {
    "ExecuteTime": {
     "end_time": "2021-04-19T13:53:02.934188Z",
     "start_time": "2021-04-19T13:53:02.519150Z"
    }
   },
   "outputs": [
    {
     "data": {
      "text/plain": [
       "Text(0.5, 1.0, 'Normalized data')"
      ]
     },
     "execution_count": 20,
     "metadata": {},
     "output_type": "execute_result"
    },
    {
     "data": {
      "image/png": "[encoded data removed]",
      "text/plain": [
       "<Figure size 432x288 with 2 Axes>"
      ]
     },
     "metadata": {
      "needs_background": "light"
     },
     "output_type": "display_data"
    }
   ],
   "source": [
    "# plot both together to compare\n",
    "\n",
    "fig, ax = plt.subplots(1,2)\n",
    "sns.distplot(original_data, ax= ax[0])\n",
    "ax[0].set_title('Original data')\n",
    "sns.distplot(normalized_data[0],ax=ax[1])\n",
    "ax[1].set_title('Normalized data')"
   ]
  },
  {
   "cell_type": "code",
   "execution_count": 21,
   "metadata": {
    "ExecuteTime": {
     "end_time": "2021-04-19T13:53:22.168223Z",
     "start_time": "2021-04-19T13:53:22.159229Z"
    }
   },
   "outputs": [],
   "source": [
    "#Notice that the shape of our data has changed. Before normalizing it was almost L-shaped. But after normalizing it looks more like the outline of a bell (hence \"bell curve\")."
   ]
  },
  {
   "cell_type": "code",
   "execution_count": null,
   "metadata": {},
   "outputs": [],
   "source": []
  }
 ],
 "metadata": {
  "kernelspec": {
   "display_name": "Python 3",
   "language": "python",
   "name": "python3"
  },
  "language_info": {
   "codemirror_mode": {
    "name": "ipython",
    "version": 3
   },
   "file_extension": ".py",
   "mimetype": "text/x-python",
   "name": "python",
   "nbconvert_exporter": "python",
   "pygments_lexer": "ipython3",
   "version": "3.8.3"
  },
  "varInspector": {
   "cols": {
    "lenName": 16,
    "lenType": 16,
    "lenVar": 40
   },
   "kernels_config": {
    "python": {
     "delete_cmd_postfix": "",
     "delete_cmd_prefix": "del ",
     "library": "var_list.py",
     "varRefreshCmd": "print(var_dic_list())"
    },
    "r": {
     "delete_cmd_postfix": ") ",
     "delete_cmd_prefix": "rm(",
     "library": "var_list.r",
     "varRefreshCmd": "cat(var_dic_list()) "
    }
   },
   "types_to_exclude": [
    "module",
    "function",
    "builtin_function_or_method",
    "instance",
    "_Feature"
   ],
   "window_display": false
  }
 },
 "nbformat": 4,
 "nbformat_minor": 4
}
